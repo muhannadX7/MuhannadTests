{
 "cells": [
  {
   "cell_type": "code",
   "execution_count": 14,
   "metadata": {},
   "outputs": [],
   "source": [
    "import numpy as np"
   ]
  },
  {
   "cell_type": "code",
   "execution_count": 94,
   "metadata": {},
   "outputs": [],
   "source": [
    "lst = [7, 10, 23, 5, 8, 12]\n"
   ]
  },
  {
   "cell_type": "markdown",
   "metadata": {},
   "source": [
    "# 2. Creating a diagonal matrix"
   ]
  },
  {
   "cell_type": "code",
   "execution_count": 54,
   "metadata": {},
   "outputs": [
    {
     "name": "stdout",
     "output_type": "stream",
     "text": [
      "Diagonal Matrix:\n",
      "[[ 7  0  0  0  0  0]\n",
      " [ 0 10  0  0  0  0]\n",
      " [ 0  0 23  0  0  0]\n",
      " [ 0  0  0  5  0  0]\n",
      " [ 0  0  0  0  8  0]\n",
      " [ 0  0  0  0  0 12]]\n"
     ]
    }
   ],
   "source": [
    "diagonal_matrix = np.diag(lst)\n",
    "print(\"Diagonal Matrix:\")\n",
    "print(diagonal_matrix)"
   ]
  },
  {
   "cell_type": "markdown",
   "metadata": {},
   "source": [
    "# 2. Creating a 1D array (matrix)\n",
    "# 2. Creating a 2D array (matrix)\n",
    "# 2. Creating a 3D array (matrix)"
   ]
  },
  {
   "cell_type": "code",
   "execution_count": 138,
   "metadata": {},
   "outputs": [
    {
     "name": "stdout",
     "output_type": "stream",
     "text": [
      "\n",
      "1D Array:\n",
      "[ 7 10 23  5  8 12]\n",
      "(6,)\n",
      "\n",
      "2D Array:\n",
      "[[ 7 10 23]\n",
      " [ 5  8 12]]\n",
      "(2, 3)\n",
      "\n",
      "3D Array:\n",
      "[[[ 7 10 23]\n",
      "  [ 5  8 12]\n",
      "  [15 18 20]]]\n",
      "(1, 3, 3)\n"
     ]
    }
   ],
   "source": [
    "one_d_array = np.array(lst)\n",
    "print(\"\\n1D Array:\")\n",
    "print(one_d_array)\n",
    "print( one_d_array.shape)\n",
    "\n",
    "two_d_array = np.array([[7, 10, 23], [5, 8, 12]])\n",
    "print(\"\\n2D Array:\")\n",
    "print(two_d_array)\n",
    "print( two_d_array.shape)\n",
    "\n",
    "three_d_array = np.array([[[7, 10, 23], [5, 8, 12], [15, 18, 20]]])\n",
    "print(\"\\n3D Array:\")\n",
    "print(three_d_array)\n",
    "print(three_d_array.shape)"
   ]
  },
  {
   "cell_type": "markdown",
   "metadata": {},
   "source": [
    "# 3. Creating a matrix filled with random numbers from a normal distribution"
   ]
  },
  {
   "cell_type": "code",
   "execution_count": 76,
   "metadata": {},
   "outputs": [
    {
     "name": "stdout",
     "output_type": "stream",
     "text": [
      "\n",
      "Matrix with Random Numbers normal Distribution:\n",
      "[[-0.05958489 -1.78160205  0.21953205 -0.08911058]\n",
      " [ 0.11116932  2.05550608 -0.54853476 -0.51449947]\n",
      " [-0.06933339 -0.13632271 -0.22951163  0.30392156]\n",
      " [-1.91912737  0.16285504  0.93077277  0.18307529]]\n"
     ]
    }
   ],
   "source": [
    "random_matrix = np.random.randn(4, 4) \n",
    "print(\"\\nMatrix with Random Numbers normal Distribution:\")\n",
    "print(random_matrix)"
   ]
  },
  {
   "cell_type": "markdown",
   "metadata": {},
   "source": [
    "# 4. Creating a random sample from a given array"
   ]
  },
  {
   "cell_type": "code",
   "execution_count": 85,
   "metadata": {},
   "outputs": [
    {
     "name": "stdout",
     "output_type": "stream",
     "text": [
      "random sample:\n",
      "[10 12]\n"
     ]
    }
   ],
   "source": [
    "random_sample = np.random.choice(lst, size=2) \n",
    "print(\"random sample:\")\n",
    "print(random_sample)"
   ]
  },
  {
   "cell_type": "markdown",
   "metadata": {},
   "source": [
    "# 5. Element-wise operations (addition)"
   ]
  },
  {
   "cell_type": "code",
   "execution_count": 108,
   "metadata": {},
   "outputs": [
    {
     "name": "stdout",
     "output_type": "stream",
     "text": [
      "[12 15 28 10 13 17]\n"
     ]
    }
   ],
   "source": [
    "array = np.array([7, 10, 23, 5, 8, 12])\n",
    "added_array = array + 5\n",
    "print(added_array)"
   ]
  },
  {
   "cell_type": "markdown",
   "metadata": {},
   "source": [
    "# 6. Element-wise operations (multiplication)"
   ]
  },
  {
   "cell_type": "code",
   "execution_count": 114,
   "metadata": {},
   "outputs": [
    {
     "name": "stdout",
     "output_type": "stream",
     "text": [
      "[14 20 46 10 16 24]\n"
     ]
    }
   ],
   "source": [
    "multiplied_array = array * 2 \n",
    "print(multiplied_array)"
   ]
  },
  {
   "cell_type": "markdown",
   "metadata": {},
   "source": [
    "# 7. Finding the maximum value in an array"
   ]
  },
  {
   "cell_type": "code",
   "execution_count": 118,
   "metadata": {},
   "outputs": [
    {
     "name": "stdout",
     "output_type": "stream",
     "text": [
      "23\n"
     ]
    }
   ],
   "source": [
    "max_value = np.max(array)\n",
    "print(max_value)"
   ]
  },
  {
   "cell_type": "markdown",
   "metadata": {},
   "source": [
    "# 8. Finding the minimum value in an array"
   ]
  },
  {
   "cell_type": "code",
   "execution_count": 120,
   "metadata": {},
   "outputs": [
    {
     "name": "stdout",
     "output_type": "stream",
     "text": [
      "5\n"
     ]
    }
   ],
   "source": [
    "min_value = np.min(array)\n",
    "print(min_value)"
   ]
  },
  {
   "cell_type": "markdown",
   "metadata": {},
   "source": [
    "# 9. Calculating the mean of an array"
   ]
  },
  {
   "cell_type": "code",
   "execution_count": 124,
   "metadata": {},
   "outputs": [
    {
     "name": "stdout",
     "output_type": "stream",
     "text": [
      "10.833333333333334\n"
     ]
    }
   ],
   "source": [
    "mean_value = np.mean(array)\n",
    "print(mean_value)"
   ]
  },
  {
   "cell_type": "markdown",
   "metadata": {},
   "source": [
    "# 11. Flattening a 2D array"
   ]
  },
  {
   "cell_type": "code",
   "execution_count": 126,
   "metadata": {},
   "outputs": [
    {
     "name": "stdout",
     "output_type": "stream",
     "text": [
      "[ 7 10 23  5  8 12]\n"
     ]
    }
   ],
   "source": [
    "two_d_array = np.array([[7, 10, 23], [5, 8, 12]])\n",
    "flattened_array = two_d_array.flatten()\n",
    "print(flattened_array)"
   ]
  },
  {
   "cell_type": "markdown",
   "metadata": {},
   "source": [
    "# 12. Rounding elements in an array"
   ]
  },
  {
   "cell_type": "code",
   "execution_count": 140,
   "metadata": {},
   "outputs": [
    {
     "name": "stdout",
     "output_type": "stream",
     "text": [
      "Rounded array: [1. 5. 8.]\n"
     ]
    }
   ],
   "source": [
    "arr = np.array([1.23, 4.56, 7.89])\n",
    "rounded_arr = np.round(arr)\n",
    "print(\"Rounded array:\", rounded_arr)"
   ]
  },
  {
   "cell_type": "markdown",
   "metadata": {},
   "source": [
    "# 13. Creating a masked array"
   ]
  },
  {
   "cell_type": "code",
   "execution_count": 192,
   "metadata": {},
   "outputs": [
    {
     "name": "stdout",
     "output_type": "stream",
     "text": [
      "Masked array: [1 -- 3 -- 5]\n"
     ]
    }
   ],
   "source": [
    "arr = np.array([1, -2, 3, -4, 5])\n",
    "mask = arr < 0 \n",
    "masked_arr = np.ma.array(arr, mask=mask)\n",
    "print(\"Masked array:\", masked_arr)"
   ]
  },
  {
   "cell_type": "markdown",
   "metadata": {},
   "source": [
    "# 14. Using advanced indexing"
   ]
  },
  {
   "cell_type": "code",
   "execution_count": 172,
   "metadata": {},
   "outputs": [
    {
     "name": "stdout",
     "output_type": "stream",
     "text": [
      "Selected elements: [10 30 50]\n"
     ]
    }
   ],
   "source": [
    "arr = np.array([10, 20, 30, 40, 50])\n",
    "indices = [0, 2, 4]  # Select specific elements\n",
    "selected_elements = arr[indices]\n",
    "print(\"Selected elements:\", selected_elements)"
   ]
  },
  {
   "cell_type": "markdown",
   "metadata": {},
   "source": [
    "# 15. Creating a random permutation of an array"
   ]
  },
  {
   "cell_type": "code",
   "execution_count": 174,
   "metadata": {},
   "outputs": [
    {
     "name": "stdout",
     "output_type": "stream",
     "text": [
      "Random permutation: [1 5 4 2 3]\n"
     ]
    }
   ],
   "source": [
    "arr = np.array([1, 2, 3, 4, 5])\n",
    "permuted_arr = np.random.permutation(arr)\n",
    "print(\"Random permutation:\", permuted_arr)"
   ]
  },
  {
   "cell_type": "markdown",
   "metadata": {},
   "source": [
    "# 16. Concatenating two arrays"
   ]
  },
  {
   "cell_type": "code",
   "execution_count": 176,
   "metadata": {},
   "outputs": [
    {
     "name": "stdout",
     "output_type": "stream",
     "text": [
      "Concatenated array: [1 2 3 4 5 6]\n"
     ]
    }
   ],
   "source": [
    "arr1 = np.array([1, 2, 3])\n",
    "arr2 = np.array([4, 5, 6])\n",
    "concatenated_arr = np.concatenate((arr1, arr2))\n",
    "print(\"Concatenated array:\", concatenated_arr)"
   ]
  },
  {
   "cell_type": "markdown",
   "metadata": {},
   "source": [
    "# 17. Finding unique elements in an array"
   ]
  },
  {
   "cell_type": "code",
   "execution_count": 178,
   "metadata": {},
   "outputs": [
    {
     "name": "stdout",
     "output_type": "stream",
     "text": [
      "Unique elements: [1 2 3 4 5]\n"
     ]
    }
   ],
   "source": [
    "arr = np.array([1, 2, 2, 3, 4, 4, 5])\n",
    "unique_elements = np.unique(arr)\n",
    "print(\"Unique elements:\", unique_elements)"
   ]
  },
  {
   "cell_type": "markdown",
   "metadata": {},
   "source": [
    "# 18. Counting occurrences of unique elements"
   ]
  },
  {
   "cell_type": "code",
   "execution_count": 180,
   "metadata": {},
   "outputs": [
    {
     "name": "stdout",
     "output_type": "stream",
     "text": [
      "Unique elements: [1 2 3 4 5]\n",
      "Counts: [1 2 1 2 1]\n"
     ]
    }
   ],
   "source": [
    "unique_elements, counts = np.unique(arr, return_counts=True)\n",
    "print(\"Unique elements:\", unique_elements)\n",
    "print(\"Counts:\", counts)"
   ]
  },
  {
   "cell_type": "markdown",
   "metadata": {},
   "source": [
    "# 19. Creating a mask based on a condition"
   ]
  },
  {
   "cell_type": "code",
   "execution_count": 186,
   "metadata": {},
   "outputs": [
    {
     "name": "stdout",
     "output_type": "stream",
     "text": [
      "Mask: [False False False  True  True]\n",
      "Filtered array: [4 5]\n"
     ]
    }
   ],
   "source": [
    "arr = np.array([1, 2, 3, 4, 5])\n",
    "mask = arr > 3 \n",
    "print(\"Mask:\", mask)\n",
    "filtered_arr = arr[mask] \n",
    "print(\"Filtered array:\", filtered_arr)\n"
   ]
  },
  {
   "cell_type": "markdown",
   "metadata": {},
   "source": [
    "# 20. Using np.where for multiple conditions"
   ]
  },
  {
   "cell_type": "code",
   "execution_count": 194,
   "metadata": {},
   "outputs": [
    {
     "name": "stdout",
     "output_type": "stream",
     "text": [
      "Result using np.where for multiple conditions: ['Low' 'Low' 'Medium' 'Medium' 'High']\n"
     ]
    }
   ],
   "source": [
    "arr = np.array([10, 20, 30, 40, 50])\n",
    "result = np.where(arr < 30, \"Low\", np.where(arr < 50, \"Medium\", \"High\"))\n",
    "print(\"Result using np.where for multiple conditions:\", result)"
   ]
  },
  {
   "cell_type": "markdown",
   "metadata": {},
   "source": [
    "# 21. Saving multiple arrays to NPZ file"
   ]
  },
  {
   "cell_type": "code",
   "execution_count": 196,
   "metadata": {},
   "outputs": [
    {
     "name": "stdout",
     "output_type": "stream",
     "text": [
      "Arrays saved to 'arrays.npz'.\n"
     ]
    }
   ],
   "source": [
    "arr1 = np.array([1, 2, 3])\n",
    "arr2 = np.array([4, 5, 6])\n",
    "np.savez(\"arrays.npz\", array1=arr1, array2=arr2)\n",
    "print(\"Arrays saved to 'arrays.npz'.\")"
   ]
  },
  {
   "cell_type": "markdown",
   "metadata": {},
   "source": [
    "# 22. Creating a random seed for reproducibility"
   ]
  },
  {
   "cell_type": "code",
   "execution_count": 198,
   "metadata": {},
   "outputs": [
    {
     "name": "stdout",
     "output_type": "stream",
     "text": [
      "Random numbers with seed 42: [0.37454012 0.95071431 0.73199394 0.59865848 0.15601864]\n"
     ]
    }
   ],
   "source": [
    "np.random.seed(42)\n",
    "random_numbers = np.random.rand(5)\n",
    "print(\"Random numbers with seed 42:\", random_numbers)"
   ]
  },
  {
   "cell_type": "markdown",
   "metadata": {},
   "source": [
    "# 23. Creating an array of a specific dtype"
   ]
  },
  {
   "cell_type": "code",
   "execution_count": 190,
   "metadata": {},
   "outputs": [
    {
     "name": "stdout",
     "output_type": "stream",
     "text": [
      "Array with dtype float32: [1. 2. 3.]\n",
      "Data type: float32\n"
     ]
    }
   ],
   "source": [
    "arr = np.array([1, 2, 3], dtype=np.float32) \n",
    "print(\"Array with dtype float32:\", arr)\n",
    "print(\"Data type:\", arr.dtype)"
   ]
  },
  {
   "cell_type": "markdown",
   "metadata": {},
   "source": [
    "# 24. Performing matrix multiplication"
   ]
  },
  {
   "cell_type": "code",
   "execution_count": 200,
   "metadata": {},
   "outputs": [
    {
     "name": "stdout",
     "output_type": "stream",
     "text": [
      "Matrix multiplication result:\n",
      " [[19 22]\n",
      " [43 50]]\n"
     ]
    }
   ],
   "source": [
    "matrix1 = np.array([[1, 2], [3, 4]])\n",
    "matrix2 = np.array([[5, 6], [7, 8]])\n",
    "result = np.dot(matrix1, matrix2) \n",
    "print(\"Matrix multiplication result:\\n\", result)"
   ]
  },
  {
   "cell_type": "markdown",
   "metadata": {},
   "source": [
    "# 25. Performing element-wise comparison with tolerance"
   ]
  },
  {
   "cell_type": "code",
   "execution_count": 147,
   "metadata": {},
   "outputs": [
    {
     "name": "stdout",
     "output_type": "stream",
     "text": [
      "Element-wise comparison: [ True  True  True]\n"
     ]
    }
   ],
   "source": [
    "arr1 = np.array([1.001, 2.002, 3.003])\n",
    "arr2 = np.array([1.000, 2.000, 3.000])\n",
    "tolerance = 0.01\n",
    "comparison = np.isclose(arr1, arr2, atol=tolerance)\n",
    "print(\"Element-wise comparison:\", comparison)"
   ]
  },
  {
   "cell_type": "markdown",
   "metadata": {},
   "source": [
    "# 26. Generating a random sample of a specified size without replacement"
   ]
  },
  {
   "cell_type": "code",
   "execution_count": 149,
   "metadata": {},
   "outputs": [
    {
     "name": "stdout",
     "output_type": "stream",
     "text": [
      "Random sample without replacement: [7 5 0 8 4]\n"
     ]
    }
   ],
   "source": [
    "sample = np.random.choice(np.arange(10), size=5, replace=False)\n",
    "print(\"Random sample without replacement:\", sample)"
   ]
  },
  {
   "cell_type": "markdown",
   "metadata": {},
   "source": [
    "# 27. Calculating cumulative sum of elements"
   ]
  },
  {
   "cell_type": "code",
   "execution_count": 156,
   "metadata": {},
   "outputs": [
    {
     "name": "stdout",
     "output_type": "stream",
     "text": [
      "Cumulative sum: [ 1  3  6 10]\n"
     ]
    }
   ],
   "source": [
    "arr = np.array([1, 2, 3, 4])\n",
    "cumsum = np.cumsum(arr)\n",
    "print(\"Cumulative sum:\", cumsum)"
   ]
  },
  {
   "cell_type": "markdown",
   "metadata": {},
   "source": [
    "# 28. Creating a meshgrid for 2D plotting"
   ]
  },
  {
   "cell_type": "code",
   "execution_count": 158,
   "metadata": {},
   "outputs": [
    {
     "name": "stdout",
     "output_type": "stream",
     "text": [
      "Meshgrid X:\n",
      " [[-5.  -2.5  0.   2.5  5. ]\n",
      " [-5.  -2.5  0.   2.5  5. ]\n",
      " [-5.  -2.5  0.   2.5  5. ]\n",
      " [-5.  -2.5  0.   2.5  5. ]\n",
      " [-5.  -2.5  0.   2.5  5. ]]\n",
      "Meshgrid Y:\n",
      " [[-5.  -5.  -5.  -5.  -5. ]\n",
      " [-2.5 -2.5 -2.5 -2.5 -2.5]\n",
      " [ 0.   0.   0.   0.   0. ]\n",
      " [ 2.5  2.5  2.5  2.5  2.5]\n",
      " [ 5.   5.   5.   5.   5. ]]\n"
     ]
    }
   ],
   "source": [
    "x = np.linspace(-5, 5, 5)\n",
    "y = np.linspace(-5, 5, 5)\n",
    "X, Y = np.meshgrid(x, y)\n",
    "print(\"Meshgrid X:\\n\", X)\n",
    "print(\"Meshgrid Y:\\n\", Y)"
   ]
  },
  {
   "cell_type": "markdown",
   "metadata": {},
   "source": [
    "# 29. Using np.clip to limit values in an array"
   ]
  },
  {
   "cell_type": "code",
   "execution_count": 160,
   "metadata": {},
   "outputs": [
    {
     "name": "stdout",
     "output_type": "stream",
     "text": [
      "Clipped array: [2 2 3 4 4]\n"
     ]
    }
   ],
   "source": [
    "arr = np.array([1, 2, 3, 4, 5])\n",
    "clipped_arr = np.clip(arr, 2, 4)\n",
    "print(\"Clipped array:\", clipped_arr)"
   ]
  },
  {
   "cell_type": "markdown",
   "metadata": {},
   "source": [
    "# 30. Resizing an array"
   ]
  },
  {
   "cell_type": "code",
   "execution_count": 162,
   "metadata": {},
   "outputs": [
    {
     "name": "stdout",
     "output_type": "stream",
     "text": [
      "Resized array:\n",
      " [[1 2 3]\n",
      " [4 5 6]]\n"
     ]
    }
   ],
   "source": [
    "arr = np.array([1, 2, 3, 4, 5, 6])\n",
    "resized_arr = np.resize(arr, (2, 3)) \n",
    "print(\"Resized array:\\n\", resized_arr)"
   ]
  },
  {
   "cell_type": "code",
   "execution_count": null,
   "metadata": {},
   "outputs": [],
   "source": []
  }
 ],
 "metadata": {
  "kernelspec": {
   "display_name": "Python [conda env:base] *",
   "language": "python",
   "name": "conda-base-py"
  },
  "language_info": {
   "codemirror_mode": {
    "name": "ipython",
    "version": 3
   },
   "file_extension": ".py",
   "mimetype": "text/x-python",
   "name": "python",
   "nbconvert_exporter": "python",
   "pygments_lexer": "ipython3",
   "version": "3.12.7"
  }
 },
 "nbformat": 4,
 "nbformat_minor": 4
}

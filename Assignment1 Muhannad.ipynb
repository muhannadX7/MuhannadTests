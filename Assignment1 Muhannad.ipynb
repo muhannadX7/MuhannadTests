{
 "cells": [
  {
   "cell_type": "markdown",
   "metadata": {},
   "source": [
    "### Python Assignment\n",
    "\n",
    "#### Question 1: Functions\n",
    "Provide two examples of built-in functions and describe their purpose."
   ]
  },
  {
   "cell_type": "code",
   "execution_count": 3,
   "metadata": {
    "collapsed": true,
    "jupyter": {
     "outputs_hidden": true
    },
    "scrolled": true
   },
   "outputs": [
    {
     "ename": "SyntaxError",
     "evalue": "invalid syntax (1898966998.py, line 1)",
     "output_type": "error",
     "traceback": [
      "\u001b[1;36m  Cell \u001b[1;32mIn[3], line 1\u001b[1;36m\u001b[0m\n\u001b[1;33m    print() to print a message or data type in consle\u001b[0m\n\u001b[1;37m            ^\u001b[0m\n\u001b[1;31mSyntaxError\u001b[0m\u001b[1;31m:\u001b[0m invalid syntax\n"
     ]
    }
   ],
   "source": [
    "print() to print a message or data type in consle\n",
    "len() to show length number for a string \n"
   ]
  },
  {
   "cell_type": "markdown",
   "metadata": {},
   "source": [
    "#### Question 2: Comments\n",
    "Show the difference between single-line comments and multi-line comments in Python."
   ]
  },
  {
   "cell_type": "code",
   "execution_count": null,
   "metadata": {},
   "outputs": [],
   "source": [
    "Single-line Comment:\n",
    "start with one (#) and continues to the end of the line.\n",
    "used for short explantions\n",
    "    \n",
    "Multi-line Comment:\n",
    "created with multiple # symbols (one per line) or by triple quotes (''') or (\"\"\").\n",
    "used for long explantions\n"
   ]
  },
  {
   "cell_type": "markdown",
   "metadata": {},
   "source": [
    "#### Question 3: Variables and Errors\n",
    "Consider the following code:"
   ]
  },
  {
   "cell_type": "markdown",
   "metadata": {},
   "source": [
    "- What will happen when the code is executed? Why?\n",
    "- Correct the code so it runs without errors."
   ]
  },
  {
   "cell_type": "code",
   "execution_count": 10,
   "metadata": {},
   "outputs": [
    {
     "name": "stdout",
     "output_type": "stream",
     "text": [
      "10\n"
     ]
    }
   ],
   "source": [
    "my_var = 10\n",
    "MyVar = 5\n",
    "print(my_var)\n",
    "\n",
    "# first will print error because variable (myvar) in print isn't found\n",
    "#to correct it change myvar to (my_var or MyVar)"
   ]
  },
  {
   "cell_type": "markdown",
   "metadata": {},
   "source": [
    "### Question 4: String Formatting\n",
    "Write a praogram that prints the following sentence using **f-strings**, **`.format()` method**, and **comma-separated arguments in the `print()` function**:\n",
    "\n",
    "```\n",
    "My name is Hassan, and I am 16 years old.\n",
    "```"
   ]
  },
  {
   "cell_type": "code",
   "execution_count": null,
   "metadata": {},
   "outputs": [],
   "source": [
    "name = \"Hassan\"\n",
    "age = 16\n",
    "\n",
    "# Using f-strings\n",
    "print(f\"My name is {name}, and I am {age} years old.\")\n",
    "\n",
    "# Using .format() method\n",
    "print(\"My name is {}, and I am {} years old.\".format(name, age))\n",
    "\n",
    "# Using comma-separated arguments in print()\n",
    "print(\"My name is\", name, \"and I am\", age, \"years old.\")"
   ]
  },
  {
   "cell_type": "code",
   "execution_count": null,
   "metadata": {},
   "outputs": [],
   "source": []
  },
  {
   "cell_type": "markdown",
   "metadata": {},
   "source": [
    "#### Question 5: Debugging\n",
    "There is a bug in the following code:"
   ]
  },
  {
   "cell_type": "markdown",
   "metadata": {},
   "source": [
    "- Identify the bug and explain why it occurs.\n",
    "- Fix the bug and provide the corrected code."
   ]
  },
  {
   "cell_type": "code",
   "execution_count": 27,
   "metadata": {},
   "outputs": [
    {
     "name": "stdout",
     "output_type": "stream",
     "text": [
      "My name's John and I am twenty-five years old.\n"
     ]
    }
   ],
   "source": [
    "#name = \"John\"\n",
    "#age = \"twenty-five\"\n",
    "#print(f'My name's {name} and I am {age} years old.')\n",
    "\n",
    "#fixed code\n",
    "name = \"John\"\n",
    "age = \"twenty-five\"\n",
    "print(f\"My name's {name} and I am {age} years old.\")"
   ]
  },
  {
   "cell_type": "markdown",
   "metadata": {},
   "source": [
    "Examine the following code snippet:\n",
    "- What error will occur when this code is executed? Why?\n",
    "    - IndexError due to out of range index number\n",
    "      \n",
    "- Fix the code so that it prints the last character of the string without causing an error."
   ]
  },
  {
   "cell_type": "code",
   "execution_count": 29,
   "metadata": {},
   "outputs": [
    {
     "name": "stdout",
     "output_type": "stream",
     "text": [
      "g\n"
     ]
    }
   ],
   "source": [
    "#text = \"Python Programming\"\n",
    "#print(text[20])\n",
    "\n",
    "#fixed code \n",
    "text = \"Python Programming\"\n",
    "print(text[-1])"
   ]
  },
  {
   "cell_type": "markdown",
   "metadata": {},
   "source": [
    "#### Question 6: String Slicing\n",
    "Given the string:\n",
    "\n",
    "- Write code to extract and reverse the word \"Learning\" using slicing.\n",
    "    - Once with +ve indexing\n",
    "    - Once with -ve indexing "
   ]
  },
  {
   "cell_type": "code",
   "execution_count": 2,
   "metadata": {},
   "outputs": [],
   "source": [
    "text = \"Machine Learning and AI\""
   ]
  },
  {
   "cell_type": "code",
   "execution_count": 74,
   "metadata": {},
   "outputs": [
    {
     "name": "stdout",
     "output_type": "stream",
     "text": [
      "gninraeL\n",
      "gninraeL\n"
     ]
    }
   ],
   "source": [
    "#Using +ve indexing\n",
    "text = \"Machine Learning and AI\"\n",
    "learningtext = text[8:16]\n",
    "reversedtext = learningtext[::-1]\n",
    "print(reversedtext)\n",
    "\n",
    "#Using -ve indexing\n",
    "text = \"Machine Learning and AI\"\n",
    "learningtext = text[-15:-7]\n",
    "reversedtext = learningtext[::-1]\n",
    "print(reversedtext)"
   ]
  },
  {
   "cell_type": "markdown",
   "metadata": {},
   "source": [
    "#### Question 6: Practical Problem\n",
    "Create a Python program that performs the following:\n",
    "1. Define a string `quote = \"Data is the new oil\"`.\n",
    "2. Use string slicing to extract the word \"Data\" and assign it to a variable.\n",
    "3. Use a built-in function to convert the entire `quote` string to uppercase.\n",
    "4. Print the final result."
   ]
  },
  {
   "cell_type": "code",
   "execution_count": 78,
   "metadata": {},
   "outputs": [
    {
     "name": "stdout",
     "output_type": "stream",
     "text": [
      "Extracted word:  Data\n",
      "Quote in uppercase:  DATA IS THE NEW OIL\n"
     ]
    }
   ],
   "source": [
    "quote = \"Data is the new oil\"\n",
    "wordData = quote[:4]  \n",
    "quote_uppercase = quote.upper()\n",
    "\n",
    "# Print the final result\n",
    "print(\"Extracted word: \", wordData)\n",
    "print(\"Quote in uppercase: \", quote_uppercase)"
   ]
  },
  {
   "cell_type": "code",
   "execution_count": null,
   "metadata": {},
   "outputs": [],
   "source": []
  }
 ],
 "metadata": {
  "kernelspec": {
   "display_name": "Python [conda env:base] *",
   "language": "python",
   "name": "conda-base-py"
  },
  "language_info": {
   "codemirror_mode": {
    "name": "ipython",
    "version": 3
   },
   "file_extension": ".py",
   "mimetype": "text/x-python",
   "name": "python",
   "nbconvert_exporter": "python",
   "pygments_lexer": "ipython3",
   "version": "3.12.7"
  }
 },
 "nbformat": 4,
 "nbformat_minor": 4
}

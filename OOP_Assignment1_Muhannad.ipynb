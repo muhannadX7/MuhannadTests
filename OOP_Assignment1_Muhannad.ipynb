{
 "cells": [
  {
   "cell_type": "markdown",
   "metadata": {},
   "source": [
    "# OOP 1st Assignment\n",
    "## Create a Python program that includes the following:\n",
    "\n",
    "1. A base class `Vehicle` with attributes `make`, `model`, and `year`. Include a method `vehicle_info()` that prints these details.\n",
    "2. A derived class `Car` that inherits from `Vehicle` and includes an additional attribute `fuel_type` and a method `car_info()` to print the fuel type.\n",
    "3. Another derived class `Motorcycle` that inherits from `Vehicle` and includes an additional attribute `engine_capacity` and a method `motorcycle_info()` to print the engine capacity.\n",
    "4. Create objects for both the `Car` and `Motorcycle` classes, initialize them with appropriate values, and call all their methods to display the details.\n"
   ]
  },
  {
   "cell_type": "code",
   "execution_count": null,
   "metadata": {},
   "outputs": [],
   "source": []
  },
  {
   "cell_type": "code",
   "execution_count": 16,
   "metadata": {},
   "outputs": [
    {
     "name": "stdout",
     "output_type": "stream",
     "text": [
      "Vehicle Info:\n",
      "Make: Toyota\n",
      "Model: Corolla\n",
      "Year: 2022\n",
      "Car Info:\n",
      "Fuel Type: Petrol\n",
      "\n",
      "\n",
      "Vehicle Info:\n",
      "Make: Harley\n",
      "Model: S750\n",
      "Year: 2017\n",
      "Motorcycle Info:\n",
      "Engine Capacity: 700cc\n"
     ]
    }
   ],
   "source": [
    "# 1\n",
    "class Vehicle:\n",
    "    def __init__(self, make, model, year):\n",
    "        self.make = make\n",
    "        self.model = model\n",
    "        self.year = year\n",
    "\n",
    "    def vehicle_info(self):\n",
    "        print(f\"Vehicle Info:\\nMake: {self.make}\\nModel: {self.model}\\nYear: {self.year}\")\n",
    "\n",
    "# 2\n",
    "class Car(Vehicle):\n",
    "    def __init__(self, make, model, year, fuel_type):\n",
    "        super().__init__(make, model, year)\n",
    "        self.fuel_type = fuel_type\n",
    "\n",
    "    def car_info(self):\n",
    "        print(f\"Car Info:\\nFuel Type: {self.fuel_type}\")\n",
    "\n",
    "# 3\n",
    "class Motorcycle(Vehicle):\n",
    "    def __init__(self, make, model, year, engine_capacity):\n",
    "        super().__init__(make, model, year)\n",
    "        self.engine_capacity = engine_capacity\n",
    "\n",
    "    def motorcycle_info(self):\n",
    "        print(f\"Motorcycle Info:\\nEngine Capacity: {self.engine_capacity}cc\")\n",
    "\n",
    "# 4\n",
    "car = Car(\"Toyota\", \"Corolla\", 2022, \"Petrol\")\n",
    "car.vehicle_info()\n",
    "car.car_info()\n",
    "print(\"\\n\")\n",
    "\n",
    "\n",
    "motorcycle = Motorcycle(\"Harley\", \"S750\", 2017, 700)\n",
    "motorcycle.vehicle_info()\n",
    "motorcycle.motorcycle_info()\n"
   ]
  },
  {
   "cell_type": "code",
   "execution_count": null,
   "metadata": {},
   "outputs": [],
   "source": []
  }
 ],
 "metadata": {
  "kernelspec": {
   "display_name": "Python [conda env:base] *",
   "language": "python",
   "name": "conda-base-py"
  },
  "language_info": {
   "codemirror_mode": {
    "name": "ipython",
    "version": 3
   },
   "file_extension": ".py",
   "mimetype": "text/x-python",
   "name": "python",
   "nbconvert_exporter": "python",
   "pygments_lexer": "ipython3",
   "version": "3.12.7"
  }
 },
 "nbformat": 4,
 "nbformat_minor": 4
}

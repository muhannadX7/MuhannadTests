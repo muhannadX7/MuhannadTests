{
 "cells": [
  {
   "cell_type": "markdown",
   "metadata": {},
   "source": [
    "# Assignment\n",
    "- You can use `lambda` if function can be put in one line"
   ]
  },
  {
   "cell_type": "markdown",
   "metadata": {},
   "source": [
    "### Write a function that calculates the factorial of a number"
   ]
  },
  {
   "cell_type": "code",
   "execution_count": 28,
   "metadata": {},
   "outputs": [
    {
     "name": "stdout",
     "output_type": "stream",
     "text": [
      "24\n"
     ]
    }
   ],
   "source": [
    "def factorial(number):\n",
    "    if number < 0:\n",
    "        return \"Write a Postive number\" \n",
    "    if number == 0 or number == 1:\n",
    "        return 1\n",
    "    if number > 0:\n",
    "        return number * factorial(number - 1)\n",
    "result = factorial(4)\n",
    "print(result)"
   ]
  },
  {
   "cell_type": "markdown",
   "metadata": {},
   "source": [
    "### Write a function that calculates the Area of a circle given the radius"
   ]
  },
  {
   "cell_type": "code",
   "execution_count": 54,
   "metadata": {},
   "outputs": [
    {
     "name": "stdout",
     "output_type": "stream",
     "text": [
      "The area of circle = 78.5\n"
     ]
    }
   ],
   "source": [
    "def area_of_circle(radius):\n",
    "    if radius <= 0 :\n",
    "        return \"Write a postive raduis\"\n",
    "    else:\n",
    "        Area = radius**2 * 3.14\n",
    "        return Area\n",
    "result = area_of_circle(5)\n",
    "print (f\"The area of circle = {result}\")"
   ]
  },
  {
   "cell_type": "markdown",
   "metadata": {},
   "source": [
    "### Write a function that checks if number is even"
   ]
  },
  {
   "cell_type": "code",
   "execution_count": 67,
   "metadata": {},
   "outputs": [
    {
     "name": "stdout",
     "output_type": "stream",
     "text": [
      "This number is even\n"
     ]
    }
   ],
   "source": [
    "def even(number):\n",
    "    if number  == 0:\n",
    "        return \"The Zero number is not even or odd\"\n",
    "        \n",
    "    if number % 2 == 0:\n",
    "        return \"This number is even\"\n",
    "\n",
    "    else :\n",
    "        return \"This number is odd\"\n",
    "result= even(8)\n",
    "print(result)"
   ]
  },
  {
   "cell_type": "markdown",
   "metadata": {},
   "source": [
    "### Write a function that returns the maximum of any amount of numbers"
   ]
  },
  {
   "cell_type": "code",
   "execution_count": 96,
   "metadata": {},
   "outputs": [
    {
     "name": "stdout",
     "output_type": "stream",
     "text": [
      "This is the arg : (3, 7, 11, 23, 4)\n",
      "the maximum number is 23\n",
      "Ther are no arguments\n"
     ]
    }
   ],
   "source": [
    "def max(*args):\n",
    "    if not args:\n",
    "        return \"Ther are no arguments\"  \n",
    "    print (f\"This is the arg : {args}\")\n",
    "    \n",
    "    return f\"the maximum number is {sorted(args)[-1]}\" \n",
    "\n",
    "print(max(3, 7, 11, 23, 4))  \n",
    "print(max())  \n"
   ]
  },
  {
   "cell_type": "markdown",
   "metadata": {},
   "source": [
    "### Write a function that generates the multiplication table of a number up to 12"
   ]
  },
  {
   "cell_type": "code",
   "execution_count": 102,
   "metadata": {},
   "outputs": [
    {
     "name": "stdout",
     "output_type": "stream",
     "text": [
      "7 x 1 = 7\n",
      "7 x 2 = 14\n",
      "7 x 3 = 21\n",
      "7 x 4 = 28\n",
      "7 x 5 = 35\n",
      "7 x 6 = 42\n",
      "7 x 7 = 49\n",
      "7 x 8 = 56\n",
      "7 x 9 = 63\n",
      "7 x 10 = 70\n",
      "7 x 11 = 77\n",
      "7 x 12 = 84\n"
     ]
    }
   ],
   "source": [
    "def multiplication_table(number):\n",
    "    for i in range(1, 13):\n",
    "        print(f\"{number} x {i} = {number * i}\")\n",
    "\n",
    "multiplication_table(7)"
   ]
  },
  {
   "cell_type": "markdown",
   "metadata": {},
   "source": [
    "### Write a function that count vowels in string"
   ]
  },
  {
   "cell_type": "code",
   "execution_count": 104,
   "metadata": {},
   "outputs": [
    {
     "name": "stdout",
     "output_type": "stream",
     "text": [
      "The string has 6 vowels.\n"
     ]
    }
   ],
   "source": [
    "def count_vowels(string):\n",
    "    vowels = \"aeiouAEIOU\"\n",
    "    count = sum(1 for char in string if char in vowels)\n",
    "    return f\"The string has {count} vowels.\"\n",
    "\n",
    "print(count_vowels(\"My Name is Muhannad\"))\n"
   ]
  },
  {
   "cell_type": "markdown",
   "metadata": {},
   "source": [
    "### Write a function that revesres a sequence"
   ]
  },
  {
   "cell_type": "code",
   "execution_count": 106,
   "metadata": {},
   "outputs": [
    {
     "name": "stdout",
     "output_type": "stream",
     "text": [
      "dannahuM\n",
      "[5, 4, 3, 2, 1]\n"
     ]
    }
   ],
   "source": [
    "def reverse(sequence):\n",
    "    return sequence[::-1]\n",
    "\n",
    "print(reverse(\"Muhannad\"))\n",
    "print(reverse([1, 2, 3, 4, 5]))\n"
   ]
  },
  {
   "cell_type": "markdown",
   "metadata": {},
   "source": [
    "### Write a function to check if sting can be written forward or backward"
   ]
  },
  {
   "cell_type": "code",
   "execution_count": 108,
   "metadata": {},
   "outputs": [
    {
     "name": "stdout",
     "output_type": "stream",
     "text": [
      "True\n",
      "False\n"
     ]
    }
   ],
   "source": [
    "def is_palindrome(string):\n",
    "    clean_string = ''.join(char.lower() for char in string if char.isalnum())\n",
    "    return clean_string == clean_string[::-1]\n",
    "\n",
    "print(is_palindrome(\"Racecar\"))\n",
    "print(is_palindrome(\"Hello\"))   \n"
   ]
  },
  {
   "cell_type": "markdown",
   "metadata": {},
   "source": [
    "### Write a function that generates the fibonacci's sequencer"
   ]
  },
  {
   "cell_type": "code",
   "execution_count": 116,
   "metadata": {},
   "outputs": [
    {
     "name": "stdout",
     "output_type": "stream",
     "text": [
      "[0, 1, 1, 2, 3, 5, 8]\n"
     ]
    }
   ],
   "source": [
    "def fibonacci(number):\n",
    "    if number <= 0:\n",
    "        return \"Provide a positive number.\"\n",
    "    sequence = [0, 1]\n",
    "    while len(sequence) < number:\n",
    "        sequence.append(sequence[-1] + sequence[-2])\n",
    "    return sequence[:number]\n",
    "\n",
    "print(fibonacci(7))\n"
   ]
  },
  {
   "cell_type": "markdown",
   "metadata": {},
   "source": [
    "### Write a calcuator function"
   ]
  },
  {
   "cell_type": "code",
   "execution_count": 118,
   "metadata": {},
   "outputs": [
    {
     "name": "stdout",
     "output_type": "stream",
     "text": [
      "15\n",
      "5\n",
      "50\n",
      "2.0\n",
      "Division by zero is not allowed.\n"
     ]
    }
   ],
   "source": [
    "def calculator(a, b, operation):\n",
    "    if operation == \"add\":\n",
    "        return a + b\n",
    "    elif operation == \"subtract\":\n",
    "        return a - b\n",
    "    elif operation == \"multiply\":\n",
    "        return a * b\n",
    "    elif operation == \"divide\":\n",
    "        if b == 0:\n",
    "            return \"Division by zero is not allowed.\"\n",
    "        return a / b\n",
    "    else:\n",
    "        return \"Invalid operation. Choose add, subtract, multiply, or divide.\"\n",
    "\n",
    "print(calculator(10, 5, \"add\"))  \n",
    "print(calculator(10, 5, \"subtract\"))\n",
    "print(calculator(10, 5, \"multiply\"))\n",
    "print(calculator(10, 5, \"divide\"))  \n",
    "print(calculator(10, 0, \"divide\"))    \n"
   ]
  },
  {
   "cell_type": "code",
   "execution_count": null,
   "metadata": {},
   "outputs": [],
   "source": []
  },
  {
   "cell_type": "code",
   "execution_count": null,
   "metadata": {},
   "outputs": [],
   "source": []
  }
 ],
 "metadata": {
  "kernelspec": {
   "display_name": "Python [conda env:base] *",
   "language": "python",
   "name": "conda-base-py"
  },
  "language_info": {
   "codemirror_mode": {
    "name": "ipython",
    "version": 3
   },
   "file_extension": ".py",
   "mimetype": "text/x-python",
   "name": "python",
   "nbconvert_exporter": "python",
   "pygments_lexer": "ipython3",
   "version": "3.12.7"
  }
 },
 "nbformat": 4,
 "nbformat_minor": 4
}
